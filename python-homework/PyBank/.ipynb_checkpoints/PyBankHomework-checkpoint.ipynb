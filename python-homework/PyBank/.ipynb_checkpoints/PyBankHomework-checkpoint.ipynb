{
 "cells": [
  {
   "cell_type": "code",
   "execution_count": 54,
   "id": "48aa8a86-7f30-4fe9-8cf0-2bf7b0f305ba",
   "metadata": {},
   "outputs": [],
   "source": [
    "import pandas as pd"
   ]
  },
  {
   "cell_type": "code",
   "execution_count": 55,
   "id": "a7b598fa-bcf6-4702-9faa-80c52690d3fa",
   "metadata": {},
   "outputs": [],
   "source": [
    "import statistics"
   ]
  },
  {
   "cell_type": "code",
   "execution_count": 56,
   "id": "70538567-4b9d-4db6-8dd7-4a0b9e5e6841",
   "metadata": {},
   "outputs": [],
   "source": [
    "budget_data=pd.read_csv('budget.csv') #create dataframe from csv"
   ]
  },
  {
   "cell_type": "code",
   "execution_count": null,
   "id": "a7e5b3a8-8186-4cb1-aa3a-95ae48a68342",
   "metadata": {},
   "outputs": [],
   "source": []
  },
  {
   "cell_type": "code",
   "execution_count": 57,
   "id": "6f968194-731c-4338-a1b1-70cbebaaaa71",
   "metadata": {},
   "outputs": [],
   "source": [
    "months=list(budget_data['Date'])"
   ]
  },
  {
   "cell_type": "code",
   "execution_count": 58,
   "id": "965ede40-43f6-449a-94a8-3841f63aedbf",
   "metadata": {},
   "outputs": [],
   "source": [
    "profit=list(budget_data['Profit/Losses'])"
   ]
  },
  {
   "cell_type": "code",
   "execution_count": 59,
   "id": "38236b8e-cbab-436f-8fd2-4d0990748f3d",
   "metadata": {},
   "outputs": [],
   "source": [
    "total_months=len(months)"
   ]
  },
  {
   "cell_type": "code",
   "execution_count": 60,
   "id": "75a86805-b3a9-41f7-ba77-b3f357491d4b",
   "metadata": {},
   "outputs": [],
   "source": [
    "totprofit=sum(profit)"
   ]
  },
  {
   "cell_type": "code",
   "execution_count": 68,
   "id": "dcc8c482-3aa0-4d77-8ebc-9235d9c3ffe9",
   "metadata": {},
   "outputs": [],
   "source": [
    "def pnlchg (old,new):\n",
    "    return (new-old)"
   ]
  },
  {
   "cell_type": "code",
   "execution_count": 69,
   "id": "b8f344c5-d37b-4039-8ee7-ed500ff72bd3",
   "metadata": {},
   "outputs": [],
   "source": [
    "change_list=[]\n",
    "for i in range(0,len(profit)-1):\n",
    "    output=pnlchg(profit[i],profit[i+1])\n",
    "    change_list.append(output)"
   ]
  },
  {
   "cell_type": "code",
   "execution_count": 70,
   "id": "7469352a-6692-4b1f-9df1-1a744cdaa1e4",
   "metadata": {},
   "outputs": [],
   "source": [
    "avg_chg=round(statistics.mean(change_list),2)"
   ]
  },
  {
   "cell_type": "code",
   "execution_count": 71,
   "id": "e0d0c15b-5b9b-473e-baa1-5fdf6203aeef",
   "metadata": {},
   "outputs": [],
   "source": [
    "change_list.insert(0,'')"
   ]
  },
  {
   "cell_type": "code",
   "execution_count": 72,
   "id": "240bd430-6c2f-4f21-b112-6d798851d660",
   "metadata": {},
   "outputs": [],
   "source": [
    "changes_df=pd.DataFrame({'Date':months,'Change':change_list})"
   ]
  },
  {
   "cell_type": "code",
   "execution_count": null,
   "id": "e0563b8b-6253-40c2-93d5-f5e8712df8e2",
   "metadata": {},
   "outputs": [],
   "source": []
  },
  {
   "cell_type": "code",
   "execution_count": 74,
   "id": "e4d9a72d-8c56-47b7-8e2f-44f4c15b491f",
   "metadata": {},
   "outputs": [],
   "source": [
    "changes_df['Change'] = pd.to_numeric(changes_df['Change'])"
   ]
  },
  {
   "cell_type": "code",
   "execution_count": 75,
   "id": "9f4693c9-fdbc-4548-b38b-f9234519dc80",
   "metadata": {},
   "outputs": [],
   "source": [
    "max_change_month=changes_df.loc[changes_df['Change'].idxmax()]"
   ]
  },
  {
   "cell_type": "code",
   "execution_count": null,
   "id": "88a07ced-1199-4eb9-aff3-968c17e6c2e3",
   "metadata": {},
   "outputs": [],
   "source": []
  },
  {
   "cell_type": "code",
   "execution_count": 78,
   "id": "2a2cd67b-6c7e-4d92-9c16-d5c8090e45e3",
   "metadata": {},
   "outputs": [],
   "source": [
    "max_change= changes_df[changes_df.Change == changes_df.Change.max()]"
   ]
  },
  {
   "cell_type": "code",
   "execution_count": null,
   "id": "16e0e9bf-b425-40da-8d99-7822cc3d7cd0",
   "metadata": {},
   "outputs": [],
   "source": []
  },
  {
   "cell_type": "code",
   "execution_count": null,
   "id": "fb596762-2dc7-441d-a87e-fe6ca78ed844",
   "metadata": {},
   "outputs": [],
   "source": []
  },
  {
   "cell_type": "code",
   "execution_count": 80,
   "id": "38743ebc-dd8b-4669-848b-d047cf257d18",
   "metadata": {},
   "outputs": [],
   "source": [
    "min_change= changes_df[changes_df.Change == changes_df.Change.min()]"
   ]
  },
  {
   "cell_type": "code",
   "execution_count": null,
   "id": "e1ff5be0-96bd-4165-b1c8-6d66fd47da1c",
   "metadata": {},
   "outputs": [],
   "source": []
  },
  {
   "cell_type": "code",
   "execution_count": null,
   "id": "b7d70d5a-7246-4af8-b627-58eb2d0362ab",
   "metadata": {},
   "outputs": [],
   "source": []
  },
  {
   "cell_type": "code",
   "execution_count": null,
   "id": "ed1ecac5-11d2-41da-b9f3-c13b6ca1861c",
   "metadata": {},
   "outputs": [],
   "source": []
  },
  {
   "cell_type": "code",
   "execution_count": null,
   "id": "7cb91506-26e1-44ff-8721-bf87959496ad",
   "metadata": {},
   "outputs": [],
   "source": []
  },
  {
   "cell_type": "code",
   "execution_count": 83,
   "id": "b7f42158-c00c-4f4a-a80e-3cfaa8c56a50",
   "metadata": {},
   "outputs": [
    {
     "name": "stdout",
     "output_type": "stream",
     "text": [
      "Financial Analysis \n",
      "------------------\n",
      "Total Months: 86\n",
      "Total PnL: $38382578\n",
      "Average Change: $-2315.12\n",
      "Greatest Increase: $\n",
      "      Date     Change\n",
      "25  Feb-12  1926159.0\n",
      "Greatest Increase: $\n",
      "      Date     Change\n",
      "44  Sep-13 -2196167.0\n"
     ]
    }
   ],
   "source": [
    "print(f\"Financial Analysis \\n------------------\\nTotal Months: {len(months)}\")\n",
    "print(f\"Total PnL: ${totprofit}\")\n",
    "print(f\"Average Change: ${avg_chg}\")\n",
    "print(f\"Greatest Increase: $\\n{max_change}\")\n",
    "print(f\"Greatest Increase: $\\n{min_change}\")"
   ]
  },
  {
   "cell_type": "code",
   "execution_count": null,
   "id": "9662efb7-b5c0-4f82-b82d-8885382c0afc",
   "metadata": {},
   "outputs": [],
   "source": []
  },
  {
   "cell_type": "code",
   "execution_count": 84,
   "id": "e37a3657-1130-4330-b33d-d4e0d71e531e",
   "metadata": {},
   "outputs": [],
   "source": [
    "with open('pybank_output.txt', 'w') as f:\n",
    "    f.write(f\"Financial Analysis \\n------------------\\nTotal Months: {len(months)}\")\n",
    "    f.write(f\"Total PnL: ${totprofit}\")\n",
    "    f.write(f\"Average Change: ${avg_chg}\")\n",
    "    f.write(f\"Greatest Increase: $\\n{max_change}\")\n",
    "    f.write(f\"Greatest Increase: $\\n{min_change}\")"
   ]
  },
  {
   "cell_type": "code",
   "execution_count": null,
   "id": "5c783c3c-0699-4635-a200-7d15b340ac92",
   "metadata": {},
   "outputs": [],
   "source": []
  },
  {
   "cell_type": "code",
   "execution_count": null,
   "id": "4badcecf-ae37-42ba-a5fa-db08faeecc65",
   "metadata": {},
   "outputs": [],
   "source": []
  },
  {
   "cell_type": "code",
   "execution_count": null,
   "id": "b2d8fa96-85ee-4bff-8e58-0854f5d88db3",
   "metadata": {},
   "outputs": [],
   "source": []
  }
 ],
 "metadata": {
  "kernelspec": {
   "display_name": "Python 3",
   "language": "python",
   "name": "python3"
  },
  "language_info": {
   "codemirror_mode": {
    "name": "ipython",
    "version": 3
   },
   "file_extension": ".py",
   "mimetype": "text/x-python",
   "name": "python",
   "nbconvert_exporter": "python",
   "pygments_lexer": "ipython3",
   "version": "3.7.10"
  }
 },
 "nbformat": 4,
 "nbformat_minor": 5
}
