{
 "cells": [
  {
   "cell_type": "code",
   "execution_count": 1,
   "id": "48aa8a86-7f30-4fe9-8cf0-2bf7b0f305ba",
   "metadata": {},
   "outputs": [],
   "source": [
    "import pandas as pd"
   ]
  },
  {
   "cell_type": "code",
   "execution_count": 2,
   "id": "a7b598fa-bcf6-4702-9faa-80c52690d3fa",
   "metadata": {},
   "outputs": [],
   "source": [
    "import statistics"
   ]
  },
  {
   "cell_type": "code",
   "execution_count": 3,
   "id": "70538567-4b9d-4db6-8dd7-4a0b9e5e6841",
   "metadata": {},
   "outputs": [],
   "source": [
    "budgetdata=pd.read_csv('budget.csv')"
   ]
  },
  {
   "cell_type": "code",
   "execution_count": 4,
   "id": "a7e5b3a8-8186-4cb1-aa3a-95ae48a68342",
   "metadata": {},
   "outputs": [
    {
     "data": {
      "text/html": [
       "<div>\n",
       "<style scoped>\n",
       "    .dataframe tbody tr th:only-of-type {\n",
       "        vertical-align: middle;\n",
       "    }\n",
       "\n",
       "    .dataframe tbody tr th {\n",
       "        vertical-align: top;\n",
       "    }\n",
       "\n",
       "    .dataframe thead th {\n",
       "        text-align: right;\n",
       "    }\n",
       "</style>\n",
       "<table border=\"1\" class=\"dataframe\">\n",
       "  <thead>\n",
       "    <tr style=\"text-align: right;\">\n",
       "      <th></th>\n",
       "      <th>Date</th>\n",
       "      <th>Profit/Losses</th>\n",
       "    </tr>\n",
       "  </thead>\n",
       "  <tbody>\n",
       "    <tr>\n",
       "      <th>0</th>\n",
       "      <td>Jan-10</td>\n",
       "      <td>867884</td>\n",
       "    </tr>\n",
       "    <tr>\n",
       "      <th>1</th>\n",
       "      <td>Feb-10</td>\n",
       "      <td>984655</td>\n",
       "    </tr>\n",
       "    <tr>\n",
       "      <th>2</th>\n",
       "      <td>Mar-10</td>\n",
       "      <td>322013</td>\n",
       "    </tr>\n",
       "    <tr>\n",
       "      <th>3</th>\n",
       "      <td>Apr-10</td>\n",
       "      <td>-69417</td>\n",
       "    </tr>\n",
       "    <tr>\n",
       "      <th>4</th>\n",
       "      <td>May-10</td>\n",
       "      <td>310503</td>\n",
       "    </tr>\n",
       "    <tr>\n",
       "      <th>...</th>\n",
       "      <td>...</td>\n",
       "      <td>...</td>\n",
       "    </tr>\n",
       "    <tr>\n",
       "      <th>81</th>\n",
       "      <td>Oct-16</td>\n",
       "      <td>102685</td>\n",
       "    </tr>\n",
       "    <tr>\n",
       "      <th>82</th>\n",
       "      <td>Nov-16</td>\n",
       "      <td>795914</td>\n",
       "    </tr>\n",
       "    <tr>\n",
       "      <th>83</th>\n",
       "      <td>Dec-16</td>\n",
       "      <td>60988</td>\n",
       "    </tr>\n",
       "    <tr>\n",
       "      <th>84</th>\n",
       "      <td>Jan-17</td>\n",
       "      <td>138230</td>\n",
       "    </tr>\n",
       "    <tr>\n",
       "      <th>85</th>\n",
       "      <td>Feb-17</td>\n",
       "      <td>671099</td>\n",
       "    </tr>\n",
       "  </tbody>\n",
       "</table>\n",
       "<p>86 rows × 2 columns</p>\n",
       "</div>"
      ],
      "text/plain": [
       "      Date  Profit/Losses\n",
       "0   Jan-10         867884\n",
       "1   Feb-10         984655\n",
       "2   Mar-10         322013\n",
       "3   Apr-10         -69417\n",
       "4   May-10         310503\n",
       "..     ...            ...\n",
       "81  Oct-16         102685\n",
       "82  Nov-16         795914\n",
       "83  Dec-16          60988\n",
       "84  Jan-17         138230\n",
       "85  Feb-17         671099\n",
       "\n",
       "[86 rows x 2 columns]"
      ]
     },
     "execution_count": 4,
     "metadata": {},
     "output_type": "execute_result"
    }
   ],
   "source": [
    "budgetdata"
   ]
  },
  {
   "cell_type": "code",
   "execution_count": 15,
   "id": "6f968194-731c-4338-a1b1-70cbebaaaa71",
   "metadata": {},
   "outputs": [],
   "source": [
    "months=list(budgetdata['Date'])"
   ]
  },
  {
   "cell_type": "code",
   "execution_count": 6,
   "id": "965ede40-43f6-449a-94a8-3841f63aedbf",
   "metadata": {},
   "outputs": [],
   "source": [
    "profit=list(budgetdata['Profit/Losses'])"
   ]
  },
  {
   "cell_type": "code",
   "execution_count": 17,
   "id": "38236b8e-cbab-436f-8fd2-4d0990748f3d",
   "metadata": {},
   "outputs": [
    {
     "data": {
      "text/plain": [
       "list"
      ]
     },
     "execution_count": 17,
     "metadata": {},
     "output_type": "execute_result"
    }
   ],
   "source": [
    "type(months)"
   ]
  },
  {
   "cell_type": "code",
   "execution_count": 7,
   "id": "75a86805-b3a9-41f7-ba77-b3f357491d4b",
   "metadata": {},
   "outputs": [],
   "source": [
    "totprofit=sum(profit)"
   ]
  },
  {
   "cell_type": "code",
   "execution_count": 8,
   "id": "dcc8c482-3aa0-4d77-8ebc-9235d9c3ffe9",
   "metadata": {},
   "outputs": [],
   "source": [
    "def pnlchg (old,new):\n",
    "    return (new-old)"
   ]
  },
  {
   "cell_type": "code",
   "execution_count": 9,
   "id": "b8f344c5-d37b-4039-8ee7-ed500ff72bd3",
   "metadata": {},
   "outputs": [],
   "source": [
    "change_list=[]\n",
    "for i in range(0,len(profit)-1):\n",
    "    output=pnlchg(profit[i],profit[i+1])\n",
    "    change_list.append(output)"
   ]
  },
  {
   "cell_type": "code",
   "execution_count": 10,
   "id": "7469352a-6692-4b1f-9df1-1a744cdaa1e4",
   "metadata": {},
   "outputs": [],
   "source": [
    "avg_chg=round(statistics.mean(change_list),2)"
   ]
  },
  {
   "cell_type": "code",
   "execution_count": 11,
   "id": "9f4693c9-fdbc-4548-b38b-f9234519dc80",
   "metadata": {},
   "outputs": [
    {
     "data": {
      "text/plain": [
       "-2315.12"
      ]
     },
     "execution_count": 11,
     "metadata": {},
     "output_type": "execute_result"
    }
   ],
   "source": [
    "avg_chg"
   ]
  },
  {
   "cell_type": "code",
   "execution_count": 12,
   "id": "ed0dfac3-fa12-4141-aae0-397ebb7c0eb3",
   "metadata": {},
   "outputs": [
    {
     "data": {
      "text/plain": [
       "-2196167"
      ]
     },
     "execution_count": 12,
     "metadata": {},
     "output_type": "execute_result"
    }
   ],
   "source": [
    "min(change_list)"
   ]
  },
  {
   "cell_type": "code",
   "execution_count": 13,
   "id": "13bdacab-b895-45ba-8a70-f8d80ff9c18a",
   "metadata": {},
   "outputs": [
    {
     "data": {
      "text/plain": [
       "1926159"
      ]
     },
     "execution_count": 13,
     "metadata": {},
     "output_type": "execute_result"
    }
   ],
   "source": [
    "max(change_list)"
   ]
  },
  {
   "cell_type": "code",
   "execution_count": 19,
   "id": "e0d0c15b-5b9b-473e-baa1-5fdf6203aeef",
   "metadata": {},
   "outputs": [],
   "source": [
    "change_list.insert(0,0)"
   ]
  },
  {
   "cell_type": "code",
   "execution_count": 21,
   "id": "240bd430-6c2f-4f21-b112-6d798851d660",
   "metadata": {},
   "outputs": [],
   "source": [
    "new=pd.DataFrame({'Date':months,'PnL':profit,'PnL Change':change_list})"
   ]
  },
  {
   "cell_type": "code",
   "execution_count": null,
   "id": "b112b134-8a3f-4861-8755-5a553cdd69da",
   "metadata": {},
   "outputs": [],
   "source": []
  },
  {
   "cell_type": "code",
   "execution_count": null,
   "id": "b7f42158-c00c-4f4a-a80e-3cfaa8c56a50",
   "metadata": {},
   "outputs": [],
   "source": [
    "print(\"Financial Analysis ------------------\" sep='\\n')"
   ]
  },
  {
   "cell_type": "code",
   "execution_count": null,
   "id": "9662efb7-b5c0-4f82-b82d-8885382c0afc",
   "metadata": {},
   "outputs": [],
   "source": [
    "multiline_str = (\"Financial Analysis\" \n",
    "                 \"------------------\"\n",
    "                 \"Total Months:        \",len(months)\n",
    "                 \"Total PnL:          $\", (totprofit)\n",
    "                 \"Average Change      $\", (avg_chg)\n",
    "                 \"Greatest Increase in Profits:\", (max(change_list))\n",
    "                 \"Greatest Decrease in Profits: \", (min(change_list))\n",
    "                 "
   ]
  },
  {
   "cell_type": "code",
   "execution_count": null,
   "id": "e37a3657-1130-4330-b33d-d4e0d71e531e",
   "metadata": {},
   "outputs": [],
   "source": [
    "multiline_str = (\"Financial Analysis\" \n",
    "                 \"------------------\"\n",
    "                 \"Total Months:        \",len(months))"
   ]
  },
  {
   "cell_type": "code",
   "execution_count": null,
   "id": "5c783c3c-0699-4635-a200-7d15b340ac92",
   "metadata": {},
   "outputs": [],
   "source": [
    "print(multiline_str)"
   ]
  },
  {
   "cell_type": "code",
   "execution_count": null,
   "id": "4badcecf-ae37-42ba-a5fa-db08faeecc65",
   "metadata": {},
   "outputs": [],
   "source": []
  }
 ],
 "metadata": {
  "kernelspec": {
   "display_name": "Python 3",
   "language": "python",
   "name": "python3"
  },
  "language_info": {
   "codemirror_mode": {
    "name": "ipython",
    "version": 3
   },
   "file_extension": ".py",
   "mimetype": "text/x-python",
   "name": "python",
   "nbconvert_exporter": "python",
   "pygments_lexer": "ipython3",
   "version": "3.7.10"
  }
 },
 "nbformat": 4,
 "nbformat_minor": 5
}
